{
  "cells": [
    {
      "cell_type": "markdown",
      "metadata": {},
      "source": [
        "## Сервисные фукнции"
      ]
    },
    {
      "cell_type": "code",
      "execution_count": 1,
      "metadata": {
        "id": "IBPogqGZX-Mj"
      },
      "outputs": [],
      "source": [
        "# Служебная функция загрузки выборки изображений из файлов в папке\n",
        "\n",
        "def load_imageset(folder,   # имя папки\n",
        "                  subset,   # подмножество изображений - оригинальные или сегментированные\n",
        "                  title     # имя выборки\n",
        "                  ):\n",
        "\n",
        "    # Cписок для хранения изображений выборки\n",
        "    image_list = []\n",
        "\n",
        "    # Отметка текущего времени\n",
        "    cur_time = time.time()\n",
        "\n",
        "    # Для всех файлов в каталоге по указанному пути:\n",
        "    for filename in sorted(os.listdir(f'{folder}/{subset}')):\n",
        "\n",
        "        # Чтение очередной картинки и добавление ее в список изображений требуемого размера\n",
        "        image_list.append(image.load_img(os.path.join(f'{folder}/{subset}', filename),\n",
        "                                         target_size=(IMG_WIDTH, IMG_HEIGHT)))\n",
        "\n",
        "    # Вывод времени загрузки картинок выборки\n",
        "    print('{} выборка загружена. Время загрузки: {:.2f} с'.format(title,\n",
        "                                                                  time.time() - cur_time))\n",
        "\n",
        "    # Вывод количества элементов в выборке\n",
        "    print('Количество изображений:', len(image_list))\n",
        "\n",
        "    return image_list"
      ]
    },
    {
      "cell_type": "code",
      "execution_count": 2,
      "metadata": {
        "id": "TXZzbqlsGF9N"
      },
      "outputs": [],
      "source": [
        "# Определим также функцию для просмотра случайных изображений из набора\n",
        "\n",
        "def show_imageset(image_list,  # выборка изображений\n",
        "                  n            # количество картинок для просмотра\n",
        "                  ):\n",
        "\n",
        "    fig, axs = plt.subplots(1, n, figsize=(25, 10))       # Создание полотна из n графиков\n",
        "\n",
        "    # Вывод в цикле n случайных изображений\n",
        "    for i in range(n):\n",
        "        img = random.choice(image_list)                   # Выборка случайного фото для отображения\n",
        "        axs[i].axis('off')\n",
        "        axs[i].imshow(img)                                # Отображение картинки\n",
        "\n",
        "    plt.show()                                            # Отрисовка изображений"
      ]
    },
    {
      "cell_type": "code",
      "execution_count": 3,
      "metadata": {
        "id": "ylo2UbitdfTH"
      },
      "outputs": [],
      "source": [
        "# Функция преобразования цветного сегментированного изображения в метки классов\n",
        "\n",
        "def rgb_to_labels(image_list  # список цветных изображений\n",
        "                 ):\n",
        "\n",
        "    result = []\n",
        "\n",
        "    # Для всех картинок в списке:\n",
        "    for d in image_list:\n",
        "        sample = np.array(d)\n",
        "        # Создание пустой 1-канальной картики\n",
        "        y = np.zeros((IMG_WIDTH, IMG_HEIGHT, 1), dtype='uint8')\n",
        "\n",
        "        # По всем классам:\n",
        "        for i, cl in enumerate(CLASS_LABELS):\n",
        "            # Нахождение 3-х канальных пикселей классов и занесение метки класса\n",
        "            y[np.where(np.all(sample == CLASS_LABELS[i], axis=-1))] = i\n",
        "\n",
        "        result.append(y)\n",
        "\n",
        "    return np.array(result)"
      ]
    },
    {
      "cell_type": "code",
      "execution_count": 4,
      "metadata": {
        "id": "r70ups7nds4o"
      },
      "outputs": [],
      "source": [
        "# Функция преобразования тензора меток класса в цветное сегметрированное изображение\n",
        "\n",
        "def labels_to_rgb(image_list  # список одноканальных изображений\n",
        "                 ):\n",
        "\n",
        "    result = []\n",
        "\n",
        "    # Для всех картинок в списке:\n",
        "    for y in image_list:\n",
        "        # Создание пустой цветной картики\n",
        "        temp = np.zeros((IMG_WIDTH, IMG_HEIGHT, 3), dtype='uint8')\n",
        "\n",
        "        # По всем классам:\n",
        "        for i, cl in enumerate(CLASS_LABELS):\n",
        "            # Нахождение пикселов класса и заполнение цветом из CLASS_LABELS[i]\n",
        "            temp[np.where(np.all(y==i, axis=-1))] = CLASS_LABELS[i]\n",
        "\n",
        "        result.append(temp)\n",
        "\n",
        "    return np.array(result)"
      ]
    },
    {
      "cell_type": "code",
      "execution_count": 5,
      "metadata": {
        "id": "7M-ONUyv36Jx"
      },
      "outputs": [],
      "source": [
        "# Функция визуализации процесса сегментации изображений\n",
        "\n",
        "def process_images(model,        # обученная модель\n",
        "                   count = 1     # количество случайных картинок для сегментации\n",
        "                   ):\n",
        "\n",
        "    # Генерация случайного списка индексов в количестве count между (0, len(x_val)\n",
        "    indexes = np.random.randint(0, len(x_val), count)\n",
        "\n",
        "    # Вычисление предсказания сети для картинок с отобранными индексами\n",
        "    predict = np.argmax(model.predict(x_val[indexes]), axis=-1)\n",
        "\n",
        "    # Подготовка цветов классов для отрисовки предсказания\n",
        "    orig = labels_to_rgb(predict[..., None])\n",
        "    fig, axs = plt.subplots(3, count, figsize=(25, 15))\n",
        "\n",
        "    # Отрисовка результата работы модели\n",
        "    for i in range(count):\n",
        "        # Отображение на графике в первой линии предсказания модели\n",
        "        axs[0, 0].set_title('Результат работы модели:')\n",
        "        axs[0, i].imshow(orig[i])\n",
        "        axs[0, i].axis('off')\n",
        "\n",
        "        # Отображение на графике во второй линии сегментированного изображения из y_val\n",
        "        axs[1, 0].set_title('Оригинальное сегментированное')\n",
        "        axs[1, i].imshow(val_segments[indexes[i]])\n",
        "        axs[1 ,i].axis('off')\n",
        "\n",
        "        # Отображение на графике в третьей линии оригинального изображения\n",
        "        axs[2, 0].set_title('Оригинальное изображение')\n",
        "        axs[2, i].imshow(val_images[indexes[i]])\n",
        "        axs[2 ,i].axis('off')\n",
        "\n",
        "    plt.show()"
      ]
    },
    {
      "cell_type": "markdown",
      "metadata": {
        "id": "NguG3E7fNQDC"
      },
      "source": [
        "## Подключение бибилиотек\n"
      ]
    },
    {
      "cell_type": "code",
      "execution_count": 6,
      "metadata": {
        "id": "0hyWYiPqLdez"
      },
      "outputs": [],
      "source": [
        "# Callback ModelChekpoint для сохранения лучших весов модели\n",
        "from tensorflow.keras.callbacks import ModelCheckpoint\n",
        "\n",
        "# Основа для модели нейронной сети\n",
        "from tensorflow.keras.models import Model\n",
        "\n",
        "# Стандартные слои keras\n",
        "from tensorflow.keras.layers import Input, Conv2DTranspose, concatenate, Activation, MaxPooling2D, Conv2D, BatchNormalization\n",
        "\n",
        "# Оптимизатор Adam\n",
        "from tensorflow.keras.optimizers import Adam\n",
        "\n",
        "from sklearn.model_selection import train_test_split\n",
        "\n",
        "# Дополнительные утилиты keras\n",
        "from tensorflow.keras import utils\n",
        "\n",
        "# Инструменты для построения графиков\n",
        "import matplotlib.pyplot as plt\n",
        "\n",
        "# Инструменты для работы с изображениями\n",
        "from tensorflow.keras.preprocessing import image\n",
        "\n",
        "# Инструменты для работы с массивами\n",
        "import numpy as np\n",
        "\n",
        "# Системные инструменты\n",
        "import time, random, gdown, os\n",
        "\n",
        "# Дополнительные инструменты для работы с изображениями\n",
        "from PIL import Image\n",
        "\n",
        "# Дополнительные инструменты визуализации\n",
        "import seaborn as sns\n",
        "sns.set_style('darkgrid')"
      ]
    },
    {
      "cell_type": "markdown",
      "metadata": {
        "id": "lijnN2c17TpT"
      },
      "source": [
        "## Загрузка и обзор датасета"
      ]
    },
    {
      "cell_type": "markdown",
      "metadata": {
        "id": "mhw22_vcU3yu"
      },
      "source": [
        "Зададим глобальные параметры:"
      ]
    },
    {
      "cell_type": "code",
      "execution_count": 7,
      "metadata": {
        "id": "CbNtynGfV27x"
      },
      "outputs": [],
      "source": [
        "# Глобальные параметры\n",
        "\n",
        "IMG_WIDTH = 256               # Ширина картинки\n",
        "IMG_HEIGHT = 256              # Высота картинки\n",
        "CLASS_COUNT = 14           # Количество классов на изображении\n",
        "TRAIN_DIRECTORY = './dataset/train'     # Название папки с файлами обучающей выборки\n",
        "VAL_DIRECTORY = './dataset/val'         # Название папки с файлами проверочной выборки\n",
        "checkpoint_filepath = './model.h5'      # Путь до папки, где сохраняются лучшие веса модели"
      ]
    },
    {
      "cell_type": "markdown",
      "metadata": {
        "id": "2dP6Lwy2Yau5"
      },
      "source": [
        "Загрузим входные изображения:"
      ]
    },
    {
      "cell_type": "code",
      "execution_count": 8,
      "metadata": {
        "colab": {
          "base_uri": "https://localhost:8080/"
        },
        "id": "MRDvv0-DQHwT",
        "outputId": "7d7af8b6-7195-41ac-c551-d998525c1818"
      },
      "outputs": [
        {
          "name": "stdout",
          "output_type": "stream",
          "text": [
            "Обучающая выборка загружена. Время загрузки: 9.34 с\n",
            "Количество изображений: 800\n",
            "Проверочная выборка загружена. Время загрузки: 1.53 с\n",
            "Количество изображений: 100\n"
          ]
        }
      ],
      "source": [
        "# Загрузка входных изображений\n",
        "\n",
        "train_images = load_imageset(TRAIN_DIRECTORY, 'origa', 'Обучающая')\n",
        "val_images = load_imageset(VAL_DIRECTORY, 'origa', 'Проверочная')"
      ]
    },
    {
      "cell_type": "code",
      "execution_count": 9,
      "metadata": {
        "colab": {
          "base_uri": "https://localhost:8080/"
        },
        "id": "2EhpiR36ZMN6",
        "outputId": "2b99c4ff-2c21-4281-faeb-34455cd0fd94"
      },
      "outputs": [
        {
          "name": "stdout",
          "output_type": "stream",
          "text": [
            "Обучающая выборка загружена. Время загрузки: 2.40 с\n",
            "Количество изображений: 800\n",
            "Проверочная выборка загружена. Время загрузки: 0.47 с\n",
            "Количество изображений: 100\n"
          ]
        }
      ],
      "source": [
        "# Загрузка выходных (сегментированных) изображений\n",
        "\n",
        "train_segments = load_imageset(TRAIN_DIRECTORY, 'segment', 'Обучающая')\n",
        "val_segments = load_imageset(VAL_DIRECTORY, 'segment', 'Проверочная')"
      ]
    },
    {
      "cell_type": "code",
      "execution_count": 10,
      "metadata": {
        "id": "VNUzsqp8kLaY"
      },
      "outputs": [],
      "source": [
        "background = (0,0,0)\n",
        "back_bumper = (251,233,1)\n",
        "back_glass = (26,167,55)\n",
        "back_door = (0,93,173)\n",
        "back_light = (230,9,42)\n",
        "\n",
        "front_bumper = (74,26,128)\n",
        "front_glass = (237,89,17)\n",
        "front_door = (150,195,32)\n",
        "front_light = (149,17,127)\n",
        "hood = (245,174,8)\n",
        "\n",
        "mirror = (9,158,162)\n",
        "tailgate = (196,255,14)\n",
        "trunk = (255,174,200)\n",
        "wheel = (240,240,240)"
      ]
    },
    {
      "cell_type": "markdown",
      "metadata": {
        "id": "BoobnQy7kRL8"
      },
      "source": [
        "Объединим все в один список меток классов:"
      ]
    },
    {
      "cell_type": "code",
      "execution_count": 11,
      "metadata": {
        "id": "QsLa2csIkUUA"
      },
      "outputs": [],
      "source": [
        "CLASS_LABELS = (background, back_bumper, back_glass, back_door, back_light, front_bumper, front_glass, front_door, front_light, hood, mirror, tailgate, trunk, wheel)"
      ]
    },
    {
      "cell_type": "markdown",
      "metadata": {
        "id": "XKc1nWoiyYPl"
      },
      "source": [
        "## Формирование выборок"
      ]
    },
    {
      "cell_type": "code",
      "execution_count": 12,
      "metadata": {
        "colab": {
          "base_uri": "https://localhost:8080/"
        },
        "id": "EZpEKeL-y22v",
        "outputId": "99bbf71a-613f-4ba7-c96f-d1c602106614"
      },
      "outputs": [
        {
          "name": "stdout",
          "output_type": "stream",
          "text": [
            "(800, 256, 256, 3)\n",
            "(100, 256, 256, 3)\n"
          ]
        }
      ],
      "source": [
        "# Формирование обучающей выборки\n",
        "X_TRAIN = []                          # Cписок под обучающую выборку\n",
        "for img in train_images:              # Для всех изображений выборки:\n",
        "    x = image.img_to_array(img)       # Перевод изображения в numpy-массив формы: высота x ширина x количество каналов\n",
        "    X_TRAIN.append(x)                 # Добавление элемента в x_train\n",
        "\n",
        "X_TRAIN = np.array(X_TRAIN)           # Перевод всей выборки в numpy\n",
        "print(X_TRAIN.shape)                  # Форма x_train\n",
        "\n",
        "\n",
        "# Формирование проверочной выборки\n",
        "x_val = []                            # Cписок под проверочную выборку\n",
        "for img in val_images:                # Для всех изображений выборки:\n",
        "    x = image.img_to_array(img)       # Перевод изображения в numpy-массив формы: высота x ширина x количество каналов\n",
        "    x_val.append(x)                   # Добавление элемента в x_train\n",
        "\n",
        "x_val = np.array(x_val)               # Перевод всей выборки в numpy\n",
        "print(x_val.shape)"
      ]
    },
    {
      "cell_type": "code",
      "execution_count": 13,
      "metadata": {
        "colab": {
          "base_uri": "https://localhost:8080/"
        },
        "id": "uFTlsN4qa5cN",
        "outputId": "3d464aa8-c1f8-40e1-d5da-55eebc760d44"
      },
      "outputs": [
        {
          "name": "stdout",
          "output_type": "stream",
          "text": [
            "(800, 256, 256, 1)\n",
            "(100, 256, 256, 1)\n"
          ]
        }
      ],
      "source": [
        "# Преобразование сегментов в метки классов\n",
        "\n",
        "Y_TRAIN1 = rgb_to_labels(train_segments)\n",
        "y_val1 = rgb_to_labels(val_segments)\n",
        "\n",
        "print(Y_TRAIN1.shape)\n",
        "print(y_val1.shape)"
      ]
    },
    {
      "cell_type": "code",
      "execution_count": 14,
      "metadata": {
        "id": "oknY5ZXwbQTO"
      },
      "outputs": [],
      "source": [
        "# Преобразование ответов в формат one_hot_encoding\n",
        "Y_TRAIN = utils.to_categorical(Y_TRAIN1, CLASS_COUNT)\n",
        "y_val = utils.to_categorical(y_val1, CLASS_COUNT)"
      ]
    },
    {
      "cell_type": "code",
      "execution_count": 15,
      "metadata": {
        "colab": {
          "base_uri": "https://localhost:8080/"
        },
        "id": "NPuQ9E3ocKCO",
        "outputId": "d1ea0b2f-d416-4bd4-f4a0-11245e5b8232"
      },
      "outputs": [
        {
          "name": "stdout",
          "output_type": "stream",
          "text": [
            "(800, 256, 256, 14)\n",
            "(100, 256, 256, 14)\n"
          ]
        }
      ],
      "source": [
        "print(Y_TRAIN.shape)\n",
        "print(y_val.shape)"
      ]
    },
    {
      "cell_type": "code",
      "execution_count": 16,
      "metadata": {
        "colab": {
          "base_uri": "https://localhost:8080/"
        },
        "id": "bau5rTHJ1AK7",
        "outputId": "3b84b7b6-0a14-4961-8d37-faf2984b7e78"
      },
      "outputs": [
        {
          "name": "stdout",
          "output_type": "stream",
          "text": [
            "Обучающая выборка изображений 743\n",
            "Обучающая выборка масок 743\n",
            "\n",
            "Тестовая выборка изображений 57\n",
            "Тестовая выборка масок 57\n"
          ]
        }
      ],
      "source": [
        "x_train, x_test, y_train, y_test = train_test_split(X_TRAIN,\n",
        "                                                    Y_TRAIN,\n",
        "                                                    test_size = 0.07,\n",
        "                                                    shuffle=True,\n",
        "                                                    random_state=42)\n",
        "\n",
        "print('Обучающая выборка изображений', len(x_train))\n",
        "print('Обучающая выборка масок', len(y_train))\n",
        "print()\n",
        "print('Тестовая выборка изображений', len(x_test))\n",
        "print('Тестовая выборка масок', len(y_test))"
      ]
    },
    {
      "cell_type": "markdown",
      "metadata": {
        "id": "j1SsZTMEIM3C"
      },
      "source": [
        "## Осмотр объема классов в пиксельном эквиваленте"
      ]
    },
    {
      "cell_type": "code",
      "execution_count": 17,
      "metadata": {
        "colab": {
          "base_uri": "https://localhost:8080/"
        },
        "id": "acy8qcWOISDB",
        "outputId": "251791c8-8dd8-4dfc-be4f-fdd2a7e81985"
      },
      "outputs": [
        {
          "name": "stdout",
          "output_type": "stream",
          "text": [
            "0 31333981.0\n",
            "1 1617734.0\n",
            "2 6032393.0\n",
            "3 1527290.0\n",
            "4 295037.0\n",
            "5 711905.0\n",
            "6 1966844.0\n",
            "7 1993809.0\n",
            "8 660096.0\n",
            "9 1240223.0\n",
            "10 236676.0\n",
            "11 899422.0\n",
            "12 2328252.0\n",
            "13 1585138.0\n"
          ]
        }
      ],
      "source": [
        "# Вычисление количества пикселов по всем классам в y_train\n",
        "pix_count = np.zeros(CLASS_COUNT)\n",
        "for i in range(CLASS_COUNT):\n",
        "    pix_count[i] = (Y_TRAIN1 == i).sum()\n",
        "\n",
        "for count, elem in enumerate(pix_count):\n",
        "  print (count, elem)"
      ]
    },
    {
      "cell_type": "code",
      "execution_count": 18,
      "metadata": {
        "colab": {
          "base_uri": "https://localhost:8080/"
        },
        "id": "UkLAzyg4sa3L",
        "outputId": "6e5907a8-3628-4525-dfbe-bcd910a815b0"
      },
      "outputs": [
        {
          "data": {
            "image/png": "[encoded data removed]",
            "text/plain": [
              "<Figure size 1000x500 with 1 Axes>"
            ]
          },
          "metadata": {},
          "output_type": "display_data"
        }
      ],
      "source": [
        "# Отрисовка столбчатой диаграммы наполненности классов\n",
        "plt.figure(figsize = (10, 5))\n",
        "plt.bar(np.arange(CLASS_COUNT-3), pix_count[3:])\n",
        "plt.show()"
      ]
    },
    {
      "cell_type": "markdown",
      "metadata": {
        "id": "jCUqbu_n1Pvw"
      },
      "source": [
        "## Создание U-net модели\n"
      ]
    },
    {
      "cell_type": "code",
      "execution_count": 19,
      "metadata": {
        "colab": {
          "base_uri": "https://localhost:8080/"
        },
        "id": "IN9Aiw6FPp1c",
        "outputId": "e23738cb-2690-4d4d-e026-cfe0412a4f36"
      },
      "outputs": [
        {
          "name": "stdout",
          "output_type": "stream",
          "text": [
            "Segmentation Models: using `keras` framework.\n"
          ]
        }
      ],
      "source": [
        "from segmentation_models.metrics import IOUScore\n",
        "metric = IOUScore()"
      ]
    },
    {
      "cell_type": "code",
      "execution_count": 20,
      "metadata": {
        "id": "QOjFjIERBFId"
      },
      "outputs": [],
      "source": [
        "def masked_unet(class_count,  # количество классов\n",
        "                input_shape   # форма входного изображения\n",
        "                ):\n",
        "\n",
        "    img_input = Input(input_shape)                                          # Создаем входной слой формой input_shape\n",
        "\n",
        "    ''' Block 1 '''\n",
        "    x = Conv2D(64, (3, 3), padding='same', name='block1_conv1')(img_input)  # Добавляем Conv2D-слой с 64-нейронами\n",
        "    x = BatchNormalization()(x)                                             # Добавляем слой BatchNormalization\n",
        "    x = Activation('relu')(x)                                               # Добавляем слой Activation\n",
        "\n",
        "    x = Conv2D(64, (3, 3), padding='same', name='block1_conv2')(x)          # Добавляем Conv2D-слой с 64-нейронами\n",
        "    x = BatchNormalization()(x)                                             # Добавляем слой BatchNormalization\n",
        "    block_1_out = Activation('relu')(x)                                     # Добавляем слой Activation и запоминаем в переменной block_1_out\n",
        "\n",
        "    x = MaxPooling2D()(block_1_out)                                         # Добавляем слой MaxPooling2D\n",
        "\n",
        "    ''' Block 2 '''\n",
        "    x = Conv2D(128, (3, 3), padding='same', name='block2_conv1')(x)         # Добавляем Conv2D-слой с 128-нейронами\n",
        "    x = BatchNormalization()(x)                                             # Добавляем слой BatchNormalization\n",
        "    x = Activation('relu')(x)                                               # Добавляем слой Activation\n",
        "\n",
        "    x = Conv2D(128, (3, 3), padding='same', name='block2_conv2')(x)         # Добавляем Conv2D-слой с 128-нейронами\n",
        "    x = BatchNormalization()(x)                                             # Добавляем слой BatchNormalization\n",
        "    block_2_out = Activation('relu')(x)                                     # Добавляем слой Activation и запоминаем в переменной block_2_out\n",
        "\n",
        "    x = MaxPooling2D()(block_2_out)                                         # Добавляем слой MaxPooling2D\n",
        "\n",
        "    ''' Block 3 '''\n",
        "    x = Conv2D(256, (3, 3), padding='same', name='block3_conv1')(x)         # Добавляем Conv2D-слой с 256-нейронами\n",
        "    x = BatchNormalization()(x)                                             # Добавляем слой BatchNormalization\n",
        "    x = Activation('relu')(x)                                               # Добавляем слой Activation\n",
        "\n",
        "    x = Conv2D(256, (3, 3), padding='same', name='block3_conv2')(x)         # Добавляем Conv2D-слой с 256-нейронами\n",
        "    x = BatchNormalization()(x)                                             # Добавляем слой BatchNormalization\n",
        "    x = Activation('relu')(x)                                               # Добавляем слой Activation\n",
        "\n",
        "    x = Conv2D(256, (3, 3), padding='same', name='block3_conv3')(x)         # Добавляем Conv2D-слой с 256-нейронами\n",
        "    x = BatchNormalization()(x)                                             # Добавляем слой BatchNormalization\n",
        "    block_3_out = Activation('relu')(x)                                     # Добавляем слой Activation и запоминаем в переменной block_3_out\n",
        "\n",
        "    x = MaxPooling2D()(block_3_out)                                         # Добавляем слой MaxPooling2D\n",
        "\n",
        "\n",
        "    ''' Block 4 '''\n",
        "    x = Conv2D(512, (3, 3), padding='same', name='block4_conv1')(x)         # Добавляем Conv2D-слой с 256-нейронами\n",
        "    x = BatchNormalization()(x)                                             # Добавляем слой BatchNormalization\n",
        "    x = Activation('relu')(x)                                               # Добавляем слой Activation\n",
        "\n",
        "    x = Conv2D(512, (3, 3), padding='same', name='block4_conv2')(x)         # Добавляем Conv2D-слой с 256-нейронами\n",
        "    x = BatchNormalization()(x)                                             # Добавляем слой BatchNormalization\n",
        "    x = Activation('relu')(x)                                               # Добавляем слой Activation\n",
        "\n",
        "    x = Conv2D(512, (3, 3), padding='same', name='block4_conv3')(x)         # Добавляем Conv2D-слой с 256-нейронами\n",
        "    x = BatchNormalization()(x)                                             # Добавляем слой BatchNormalization\n",
        "    block_4_out = Activation('relu')(x)                                     # Добавляем слой Activation и запоминаем в переменной block_3_out\n",
        "\n",
        "    x = MaxPooling2D()(block_4_out)                                         # Добавляем слой MaxPooling2D\n",
        "\n",
        "\n",
        "    ''' Block 5 '''\n",
        "    x = Conv2D(1024, (3, 3), padding='same', name='block5_conv1')(x)         # Добавляем Conv2D-слой с 512-нейронами\n",
        "    x = BatchNormalization()(x)                                             # Добавляем слой BatchNormalization\n",
        "    x = Activation('relu')(x)                                               # Добавляем слой Activation\n",
        "\n",
        "    x = Conv2D(1024, (3, 3), padding='same', name='block5_conv2')(x)         # Добавляем Conv2D-слой с 512-нейронами\n",
        "    x = BatchNormalization()(x)                                             # Добавляем слой BatchNormalization\n",
        "    x = Activation('relu')(x)                                               # Добавляем слой Activation\n",
        "\n",
        "    x = Conv2D(1024, (3, 3), padding='same', name='block5_conv3')(x)         # Добавляем Conv2D-слой с 512-нейронами\n",
        "    x = BatchNormalization()(x)                                             # Добавляем слой BatchNormalization\n",
        "    block_5_out = Activation('relu')(x)                                     # Добавляем слой Activation и запоминаем в переменной block_4_out\n",
        "    x = block_5_out\n",
        "\n",
        "\n",
        "    ''' UP 1 '''\n",
        "    x = Conv2DTranspose(512, (2, 2), strides=(2, 2), padding='same')(x)     # Добавляем слой Conv2DTranspose с 256 нейронами\n",
        "    x = BatchNormalization()(x)                                             # Добавляем слой BatchNormalization\n",
        "    x = Activation('relu')(x)                                               # Добавляем слой Activation\n",
        "\n",
        "    x = concatenate([x, block_4_out])                                       # Объединяем текущий слой со слоем block_3_out\n",
        "    x = Conv2D(512, (3, 3), padding='same')(x)                              # Добавляем слой Conv2D с 256 нейронами\n",
        "    x = BatchNormalization()(x)                                             # Добавляем слой BatchNormalization\n",
        "    x = Activation('relu')(x)                                               # Добавляем слой Activation\n",
        "\n",
        "    x = Conv2D(512, (3, 3), padding='same')(x)\n",
        "    x = BatchNormalization()(x)                                             # Добавляем слой BatchNormalization\n",
        "    x = Activation('relu')(x)                                               # Добавляем слой Activation\n",
        "\n",
        "\n",
        "    ''' UP 2 '''\n",
        "    x = Conv2DTranspose(256, (2, 2), strides=(2, 2), padding='same')(x)     # Добавляем слой Conv2DTranspose с 256 нейронами\n",
        "    x = BatchNormalization()(x)                                             # Добавляем слой BatchNormalization\n",
        "    x = Activation('relu')(x)                                               # Добавляем слой Activation\n",
        "\n",
        "    x = concatenate([x, block_3_out])                                       # Объединяем текущий слой со слоем block_3_out\n",
        "    x = Conv2D(256, (3, 3), padding='same')(x)                              # Добавляем слой Conv2D с 256 нейронами\n",
        "    x = BatchNormalization()(x)                                             # Добавляем слой BatchNormalization\n",
        "    x = Activation('relu')(x)                                               # Добавляем слой Activation\n",
        "\n",
        "    x = Conv2D(256, (3, 3), padding='same')(x)\n",
        "    x = BatchNormalization()(x)                                             # Добавляем слой BatchNormalization\n",
        "    x = Activation('relu')(x)                                               # Добавляем слой Activation\n",
        "\n",
        "    ''' UP 3 '''\n",
        "    x = Conv2DTranspose(128, (2, 2), strides=(2, 2), padding='same')(x)     # Добавляем слой Conv2DTranspose с 128 нейронами\n",
        "    x = BatchNormalization()(x)                                             # Добавляем слой BatchNormalization\n",
        "    x = Activation('relu')(x)                                               # Добавляем слой Activation\n",
        "\n",
        "    x = concatenate([x, block_2_out])                                       # Объединяем текущий слой со слоем block_2_out\n",
        "    x = Conv2D(128, (3, 3), padding='same')(x)                              # Добавляем слой Conv2D с 128 нейронами\n",
        "    x = BatchNormalization()(x)                                             # Добавляем слой BatchNormalization\n",
        "    x = Activation('relu')(x)                                               # Добавляем слой Activation\n",
        "\n",
        "    x = Conv2D(128, (3, 3), padding='same')(x)                              # Добавляем слой Conv2D с 128 нейронами\n",
        "    x = BatchNormalization()(x)                                             # Добавляем слой BatchNormalization\n",
        "    x = Activation('relu')(x)                                               # Добавляем слой Activation\n",
        "\n",
        "    ''' UP 4 '''\n",
        "    x = Conv2DTranspose(64, (2, 2), strides=(2, 2), padding='same')(x)      # Добавляем слой Conv2DTranspose с 64 нейронами\n",
        "    x = BatchNormalization()(x)                                             # Добавляем слой BatchNormalization\n",
        "    x = Activation('relu')(x)                                               # Добавляем слой Activation\n",
        "\n",
        "    x = concatenate([x, block_1_out])                                       # Объединяем текущий слой со слоем block_1_out\n",
        "    x = Conv2D(64, (3, 3), padding='same')(x)                               # Добавляем слой Conv2D с 64 нейронами\n",
        "    x = BatchNormalization()(x)                                             # Добавляем слой BatchNormalization\n",
        "    x = Activation('relu')(x)                                               # Добавляем слой Activation\n",
        "\n",
        "    x = Conv2D(64, (3, 3), padding='same')(x)                               # Добавляем слой Conv2D с 64 нейронами\n",
        "    x = BatchNormalization()(x)                                             # Добавляем слой BatchNormalization\n",
        "    x = Activation('relu')(x)                                               # Добавляем слой Activation\n",
        "\n",
        "    x = Conv2D(class_count, (3, 3), activation='softmax', padding='same')(x)  # Добавляем Conv2D-Слой с softmax-активацией на class_count-нейронов\n",
        "\n",
        "    model = Model(img_input, x)                                             # Создаем модель с входом 'img_input' и выходом 'x'\n",
        "\n",
        "    # Компилируем модель\n",
        "    model.compile(optimizer=Adam(learning_rate=1e-3),\n",
        "                  loss='categorical_crossentropy',\n",
        "                  metrics=[metric])\n",
        "\n",
        "    # Возвращаем сформированную модель\n",
        "    return model"
      ]
    },
    {
      "cell_type": "code",
      "execution_count": 21,
      "metadata": {
        "id": "jegmvYcOMC1e"
      },
      "outputs": [],
      "source": [
        "# Создание расширенной модели и вывод сводки\n",
        "\n",
        "model_masked_unet = masked_unet(CLASS_COUNT,\n",
        "                                (IMG_WIDTH, IMG_HEIGHT,3))"
      ]
    },
    {
      "cell_type": "code",
      "execution_count": 22,
      "metadata": {
        "colab": {
          "base_uri": "https://localhost:8080/"
        },
        "id": "1IpFgMZs8FdC",
        "outputId": "77dabeba-aee7-4e32-d2a4-16db9d470951"
      },
      "outputs": [
        {
          "name": "stdout",
          "output_type": "stream",
          "text": [
            "Model: \"model\"\n",
            "__________________________________________________________________________________________________\n",
            " Layer (type)                   Output Shape         Param #     Connected to                     \n",
            "==================================================================================================\n",
            " input_1 (InputLayer)           [(None, 256, 256, 3  0           []                               \n",
            "                                )]                                                                \n",
            "                                                                                                  \n",
            " block1_conv1 (Conv2D)          (None, 256, 256, 64  1792        ['input_1[0][0]']                \n",
            "                                )                                                                 \n",
            "                                                                                                  \n",
            " batch_normalization (BatchNorm  (None, 256, 256, 64  256        ['block1_conv1[0][0]']           \n",
            " alization)                     )                                                                 \n",
            "                                                                                                  \n",
            " activation (Activation)        (None, 256, 256, 64  0           ['batch_normalization[0][0]']    \n",
            "                                )                                                                 \n",
            "                                                                                                  \n",
            " block1_conv2 (Conv2D)          (None, 256, 256, 64  36928       ['activation[0][0]']             \n",
            "                                )                                                                 \n",
            "                                                                                                  \n",
            " batch_normalization_1 (BatchNo  (None, 256, 256, 64  256        ['block1_conv2[0][0]']           \n",
            " rmalization)                   )                                                                 \n",
            "                                                                                                  \n",
            " activation_1 (Activation)      (None, 256, 256, 64  0           ['batch_normalization_1[0][0]']  \n",
            "                                )                                                                 \n",
            "                                                                                                  \n",
            " max_pooling2d (MaxPooling2D)   (None, 128, 128, 64  0           ['activation_1[0][0]']           \n",
            "                                )                                                                 \n",
            "                                                                                                  \n",
            " block2_conv1 (Conv2D)          (None, 128, 128, 12  73856       ['max_pooling2d[0][0]']          \n",
            "                                8)                                                                \n",
            "                                                                                                  \n",
            " batch_normalization_2 (BatchNo  (None, 128, 128, 12  512        ['block2_conv1[0][0]']           \n",
            " rmalization)                   8)                                                                \n",
            "                                                                                                  \n",
            " activation_2 (Activation)      (None, 128, 128, 12  0           ['batch_normalization_2[0][0]']  \n",
            "                                8)                                                                \n",
            "                                                                                                  \n",
            " block2_conv2 (Conv2D)          (None, 128, 128, 12  147584      ['activation_2[0][0]']           \n",
            "                                8)                                                                \n",
            "                                                                                                  \n",
            " batch_normalization_3 (BatchNo  (None, 128, 128, 12  512        ['block2_conv2[0][0]']           \n",
            " rmalization)                   8)                                                                \n",
            "                                                                                                  \n",
            " activation_3 (Activation)      (None, 128, 128, 12  0           ['batch_normalization_3[0][0]']  \n",
            "                                8)                                                                \n",
            "                                                                                                  \n",
            " max_pooling2d_1 (MaxPooling2D)  (None, 64, 64, 128)  0          ['activation_3[0][0]']           \n",
            "                                                                                                  \n",
            " block3_conv1 (Conv2D)          (None, 64, 64, 256)  295168      ['max_pooling2d_1[0][0]']        \n",
            "                                                                                                  \n",
            " batch_normalization_4 (BatchNo  (None, 64, 64, 256)  1024       ['block3_conv1[0][0]']           \n",
            " rmalization)                                                                                     \n",
            "                                                                                                  \n",
            " activation_4 (Activation)      (None, 64, 64, 256)  0           ['batch_normalization_4[0][0]']  \n",
            "                                                                                                  \n",
            " block3_conv2 (Conv2D)          (None, 64, 64, 256)  590080      ['activation_4[0][0]']           \n",
            "                                                                                                  \n",
            " batch_normalization_5 (BatchNo  (None, 64, 64, 256)  1024       ['block3_conv2[0][0]']           \n",
            " rmalization)                                                                                     \n",
            "                                                                                                  \n",
            " activation_5 (Activation)      (None, 64, 64, 256)  0           ['batch_normalization_5[0][0]']  \n",
            "                                                                                                  \n",
            " block3_conv3 (Conv2D)          (None, 64, 64, 256)  590080      ['activation_5[0][0]']           \n",
            "                                                                                                  \n",
            " batch_normalization_6 (BatchNo  (None, 64, 64, 256)  1024       ['block3_conv3[0][0]']           \n",
            " rmalization)                                                                                     \n",
            "                                                                                                  \n",
            " activation_6 (Activation)      (None, 64, 64, 256)  0           ['batch_normalization_6[0][0]']  \n",
            "                                                                                                  \n",
            " max_pooling2d_2 (MaxPooling2D)  (None, 32, 32, 256)  0          ['activation_6[0][0]']           \n",
            "                                                                                                  \n",
            " block4_conv1 (Conv2D)          (None, 32, 32, 512)  1180160     ['max_pooling2d_2[0][0]']        \n",
            "                                                                                                  \n",
            " batch_normalization_7 (BatchNo  (None, 32, 32, 512)  2048       ['block4_conv1[0][0]']           \n",
            " rmalization)                                                                                     \n",
            "                                                                                                  \n",
            " activation_7 (Activation)      (None, 32, 32, 512)  0           ['batch_normalization_7[0][0]']  \n",
            "                                                                                                  \n",
            " block4_conv2 (Conv2D)          (None, 32, 32, 512)  2359808     ['activation_7[0][0]']           \n",
            "                                                                                                  \n",
            " batch_normalization_8 (BatchNo  (None, 32, 32, 512)  2048       ['block4_conv2[0][0]']           \n",
            " rmalization)                                                                                     \n",
            "                                                                                                  \n",
            " activation_8 (Activation)      (None, 32, 32, 512)  0           ['batch_normalization_8[0][0]']  \n",
            "                                                                                                  \n",
            " block4_conv3 (Conv2D)          (None, 32, 32, 512)  2359808     ['activation_8[0][0]']           \n",
            "                                                                                                  \n",
            " batch_normalization_9 (BatchNo  (None, 32, 32, 512)  2048       ['block4_conv3[0][0]']           \n",
            " rmalization)                                                                                     \n",
            "                                                                                                  \n",
            " activation_9 (Activation)      (None, 32, 32, 512)  0           ['batch_normalization_9[0][0]']  \n",
            "                                                                                                  \n",
            " max_pooling2d_3 (MaxPooling2D)  (None, 16, 16, 512)  0          ['activation_9[0][0]']           \n",
            "                                                                                                  \n",
            " block5_conv1 (Conv2D)          (None, 16, 16, 1024  4719616     ['max_pooling2d_3[0][0]']        \n",
            "                                )                                                                 \n",
            "                                                                                                  \n",
            " batch_normalization_10 (BatchN  (None, 16, 16, 1024  4096       ['block5_conv1[0][0]']           \n",
            " ormalization)                  )                                                                 \n",
            "                                                                                                  \n",
            " activation_10 (Activation)     (None, 16, 16, 1024  0           ['batch_normalization_10[0][0]'] \n",
            "                                )                                                                 \n",
            "                                                                                                  \n",
            " block5_conv2 (Conv2D)          (None, 16, 16, 1024  9438208     ['activation_10[0][0]']          \n",
            "                                )                                                                 \n",
            "                                                                                                  \n",
            " batch_normalization_11 (BatchN  (None, 16, 16, 1024  4096       ['block5_conv2[0][0]']           \n",
            " ormalization)                  )                                                                 \n",
            "                                                                                                  \n",
            " activation_11 (Activation)     (None, 16, 16, 1024  0           ['batch_normalization_11[0][0]'] \n",
            "                                )                                                                 \n",
            "                                                                                                  \n",
            " block5_conv3 (Conv2D)          (None, 16, 16, 1024  9438208     ['activation_11[0][0]']          \n",
            "                                )                                                                 \n",
            "                                                                                                  \n",
            " batch_normalization_12 (BatchN  (None, 16, 16, 1024  4096       ['block5_conv3[0][0]']           \n",
            " ormalization)                  )                                                                 \n",
            "                                                                                                  \n",
            " activation_12 (Activation)     (None, 16, 16, 1024  0           ['batch_normalization_12[0][0]'] \n",
            "                                )                                                                 \n",
            "                                                                                                  \n",
            " conv2d_transpose (Conv2DTransp  (None, 32, 32, 512)  2097664    ['activation_12[0][0]']          \n",
            " ose)                                                                                             \n",
            "                                                                                                  \n",
            " batch_normalization_13 (BatchN  (None, 32, 32, 512)  2048       ['conv2d_transpose[0][0]']       \n",
            " ormalization)                                                                                    \n",
            "                                                                                                  \n",
            " activation_13 (Activation)     (None, 32, 32, 512)  0           ['batch_normalization_13[0][0]'] \n",
            "                                                                                                  \n",
            " concatenate (Concatenate)      (None, 32, 32, 1024  0           ['activation_13[0][0]',          \n",
            "                                )                                 'activation_9[0][0]']           \n",
            "                                                                                                  \n",
            " conv2d (Conv2D)                (None, 32, 32, 512)  4719104     ['concatenate[0][0]']            \n",
            "                                                                                                  \n",
            " batch_normalization_14 (BatchN  (None, 32, 32, 512)  2048       ['conv2d[0][0]']                 \n",
            " ormalization)                                                                                    \n",
            "                                                                                                  \n",
            " activation_14 (Activation)     (None, 32, 32, 512)  0           ['batch_normalization_14[0][0]'] \n",
            "                                                                                                  \n",
            " conv2d_1 (Conv2D)              (None, 32, 32, 512)  2359808     ['activation_14[0][0]']          \n"
          ]
        },
        {
          "name": "stdout",
          "output_type": "stream",
          "text": [
            "                                                                                                  \n",
            " batch_normalization_15 (BatchN  (None, 32, 32, 512)  2048       ['conv2d_1[0][0]']               \n",
            " ormalization)                                                                                    \n",
            "                                                                                                  \n",
            " activation_15 (Activation)     (None, 32, 32, 512)  0           ['batch_normalization_15[0][0]'] \n",
            "                                                                                                  \n",
            " conv2d_transpose_1 (Conv2DTran  (None, 64, 64, 256)  524544     ['activation_15[0][0]']          \n",
            " spose)                                                                                           \n",
            "                                                                                                  \n",
            " batch_normalization_16 (BatchN  (None, 64, 64, 256)  1024       ['conv2d_transpose_1[0][0]']     \n",
            " ormalization)                                                                                    \n",
            "                                                                                                  \n",
            " activation_16 (Activation)     (None, 64, 64, 256)  0           ['batch_normalization_16[0][0]'] \n",
            "                                                                                                  \n",
            " concatenate_1 (Concatenate)    (None, 64, 64, 512)  0           ['activation_16[0][0]',          \n",
            "                                                                  'activation_6[0][0]']           \n",
            "                                                                                                  \n",
            " conv2d_2 (Conv2D)              (None, 64, 64, 256)  1179904     ['concatenate_1[0][0]']          \n",
            "                                                                                                  \n",
            " batch_normalization_17 (BatchN  (None, 64, 64, 256)  1024       ['conv2d_2[0][0]']               \n",
            " ormalization)                                                                                    \n",
            "                                                                                                  \n",
            " activation_17 (Activation)     (None, 64, 64, 256)  0           ['batch_normalization_17[0][0]'] \n",
            "                                                                                                  \n",
            " conv2d_3 (Conv2D)              (None, 64, 64, 256)  590080      ['activation_17[0][0]']          \n",
            "                                                                                                  \n",
            " batch_normalization_18 (BatchN  (None, 64, 64, 256)  1024       ['conv2d_3[0][0]']               \n",
            " ormalization)                                                                                    \n",
            "                                                                                                  \n",
            " activation_18 (Activation)     (None, 64, 64, 256)  0           ['batch_normalization_18[0][0]'] \n",
            "                                                                                                  \n",
            " conv2d_transpose_2 (Conv2DTran  (None, 128, 128, 12  131200     ['activation_18[0][0]']          \n",
            " spose)                         8)                                                                \n",
            "                                                                                                  \n",
            " batch_normalization_19 (BatchN  (None, 128, 128, 12  512        ['conv2d_transpose_2[0][0]']     \n",
            " ormalization)                  8)                                                                \n",
            "                                                                                                  \n",
            " activation_19 (Activation)     (None, 128, 128, 12  0           ['batch_normalization_19[0][0]'] \n",
            "                                8)                                                                \n",
            "                                                                                                  \n",
            " concatenate_2 (Concatenate)    (None, 128, 128, 25  0           ['activation_19[0][0]',          \n",
            "                                6)                                'activation_3[0][0]']           \n",
            "                                                                                                  \n",
            " conv2d_4 (Conv2D)              (None, 128, 128, 12  295040      ['concatenate_2[0][0]']          \n",
            "                                8)                                                                \n",
            "                                                                                                  \n",
            " batch_normalization_20 (BatchN  (None, 128, 128, 12  512        ['conv2d_4[0][0]']               \n",
            " ormalization)                  8)                                                                \n",
            "                                                                                                  \n",
            " activation_20 (Activation)     (None, 128, 128, 12  0           ['batch_normalization_20[0][0]'] \n",
            "                                8)                                                                \n",
            "                                                                                                  \n",
            " conv2d_5 (Conv2D)              (None, 128, 128, 12  147584      ['activation_20[0][0]']          \n",
            "                                8)                                                                \n",
            "                                                                                                  \n",
            " batch_normalization_21 (BatchN  (None, 128, 128, 12  512        ['conv2d_5[0][0]']               \n",
            " ormalization)                  8)                                                                \n",
            "                                                                                                  \n",
            " activation_21 (Activation)     (None, 128, 128, 12  0           ['batch_normalization_21[0][0]'] \n",
            "                                8)                                                                \n",
            "                                                                                                  \n",
            " conv2d_transpose_3 (Conv2DTran  (None, 256, 256, 64  32832      ['activation_21[0][0]']          \n",
            " spose)                         )                                                                 \n",
            "                                                                                                  \n",
            " batch_normalization_22 (BatchN  (None, 256, 256, 64  256        ['conv2d_transpose_3[0][0]']     \n",
            " ormalization)                  )                                                                 \n",
            "                                                                                                  \n",
            " activation_22 (Activation)     (None, 256, 256, 64  0           ['batch_normalization_22[0][0]'] \n",
            "                                )                                                                 \n",
            "                                                                                                  \n",
            " concatenate_3 (Concatenate)    (None, 256, 256, 12  0           ['activation_22[0][0]',          \n",
            "                                8)                                'activation_1[0][0]']           \n",
            "                                                                                                  \n",
            " conv2d_6 (Conv2D)              (None, 256, 256, 64  73792       ['concatenate_3[0][0]']          \n",
            "                                )                                                                 \n",
            "                                                                                                  \n",
            " batch_normalization_23 (BatchN  (None, 256, 256, 64  256        ['conv2d_6[0][0]']               \n",
            " ormalization)                  )                                                                 \n",
            "                                                                                                  \n",
            " activation_23 (Activation)     (None, 256, 256, 64  0           ['batch_normalization_23[0][0]'] \n",
            "                                )                                                                 \n",
            "                                                                                                  \n",
            " conv2d_7 (Conv2D)              (None, 256, 256, 64  36928       ['activation_23[0][0]']          \n",
            "                                )                                                                 \n",
            "                                                                                                  \n",
            " batch_normalization_24 (BatchN  (None, 256, 256, 64  256        ['conv2d_7[0][0]']               \n",
            " ormalization)                  )                                                                 \n",
            "                                                                                                  \n",
            " activation_24 (Activation)     (None, 256, 256, 64  0           ['batch_normalization_24[0][0]'] \n",
            "                                )                                                                 \n",
            "                                                                                                  \n",
            " conv2d_8 (Conv2D)              (None, 256, 256, 14  8078        ['activation_24[0][0]']          \n",
            "                                )                                                                 \n",
            "                                                                                                  \n",
            "==================================================================================================\n",
            "Total params: 43,462,414\n",
            "Trainable params: 43,445,134\n",
            "Non-trainable params: 17,280\n",
            "__________________________________________________________________________________________________\n"
          ]
        }
      ],
      "source": [
        "model_masked_unet.summary()"
      ]
    },
    {
      "cell_type": "code",
      "execution_count": 23,
      "metadata": {
        "colab": {
          "base_uri": "https://localhost:8080/"
        },
        "id": "0A76jSWS8FTP",
        "outputId": "c6a804cf-f235-4fc0-f1a6-4664a427b851"
      },
      "outputs": [
        {
          "name": "stdout",
          "output_type": "stream",
          "text": [
            "You must install pydot (`pip install pydot`) and install graphviz (see instructions at https://graphviz.gitlab.io/download/) for plot_model/model_to_dot to work.\n"
          ]
        }
      ],
      "source": [
        "utils.plot_model(model_masked_unet, dpi=80)"
      ]
    },
    {
      "cell_type": "markdown",
      "metadata": {
        "id": "eIWuTZf5kSgf"
      },
      "source": [
        "## Запуск модели"
      ]
    },
    {
      "cell_type": "code",
      "execution_count": 24,
      "metadata": {
        "id": "YfEhujGF1UYQ"
      },
      "outputs": [],
      "source": [
        "# Создание callback для сохранения лучших весов модели\n",
        "\n",
        "model_checkpoint_callback = ModelCheckpoint(\n",
        "                                filepath=checkpoint_filepath,\n",
        "                                save_weights_only=True,\n",
        "                                monitor='val_iou_score',\n",
        "                                mode='max',\n",
        "                                save_best_only=True)"
      ]
    },
    {
      "cell_type": "code",
      "execution_count": null,
      "metadata": {
        "colab": {
          "base_uri": "https://localhost:8080/"
        },
        "id": "SXHrGrKDBwPQ",
        "outputId": "200bdda9-594e-449d-f276-e8f5ec0f8f32"
      },
      "outputs": [],
      "source": [
        "# Обучение модели\n",
        "\n",
        "history = model_masked_unet.fit(x_train, y_train,\n",
        "                                epochs=145,\n",
        "                                batch_size=20,\n",
        "                                validation_data=(x_test, y_test),\n",
        "                                callbacks=[model_checkpoint_callback])"
      ]
    },
    {
      "cell_type": "code",
      "execution_count": null,
      "metadata": {
        "colab": {
          "base_uri": "https://localhost:8080/",
          "height": 446
        },
        "id": "hcV48Mn52fzX",
        "outputId": "c924335c-4497-4873-bf3f-c9fd0f02e032"
      },
      "outputs": [
        {
          "name": "stdout",
          "output_type": "stream",
          "text": [
            "Максимальная точность при обучени на тестовых данных:  0.7752770781517029\n"
          ]
        },
        {
          "data": {
            "image/png": "[encoded data removed]",
            "text/plain": [
              "<Figure size 1008x504 with 1 Axes>"
            ]
          },
          "metadata": {},
          "output_type": "display_data"
        }
      ],
      "source": [
        "print('Максимальная точность при обучени на тестовых данных: ', max(history.history['val_iou_score']))\n",
        "\n",
        "# Отображение графиков обучения модели\n",
        "plt.figure(figsize=(14, 7))\n",
        "plt.plot(history.history['iou_score'])\n",
        "plt.plot(history.history['val_iou_score'])\n",
        "plt.show()"
      ]
    }
  ],
  "metadata": {
    "accelerator": "GPU",
    "colab": {
      "collapsed_sections": [
        "dvMD3ZqAix3Y",
        "NguG3E7fNQDC",
        "lijnN2c17TpT",
        "XKc1nWoiyYPl",
        "j1SsZTMEIM3C",
        "jCUqbu_n1Pvw"
      ],
      "gpuClass": "premium",
      "machine_shape": "hm",
      "provenance": []
    },
    "gpuClass": "premium",
    "kernelspec": {
      "display_name": "Python 3",
      "name": "python3"
    },
    "language_info": {
      "codemirror_mode": {
        "name": "ipython",
        "version": 3
      },
      "file_extension": ".py",
      "mimetype": "text/x-python",
      "name": "python",
      "nbconvert_exporter": "python",
      "pygments_lexer": "ipython3",
      "version": "3.10.7"
    }
  },
  "nbformat": 4,
  "nbformat_minor": 0
}
